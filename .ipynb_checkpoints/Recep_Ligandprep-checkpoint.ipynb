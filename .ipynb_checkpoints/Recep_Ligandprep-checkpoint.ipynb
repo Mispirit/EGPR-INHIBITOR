{
 "cells": [
  {
   "cell_type": "markdown",
   "id": "504fd132-6677-46b1-86a1-54494e63cb4a",
   "metadata": {},
   "source": [
    "## Converting Ligand SMILE String to PDB"
   ]
  },
  {
   "cell_type": "code",
   "execution_count": 1,
   "id": "a98f746a-60eb-48da-bab9-d2f0653a0fce",
   "metadata": {},
   "outputs": [],
   "source": [
    "import pandas as pd\n",
    "from rdkit import Chem\n",
    "from rdkit.Chem import AllChem"
   ]
  },
  {
   "cell_type": "code",
   "execution_count": 2,
   "id": "a623ed51-856f-43b1-8652-cd5400f5c194",
   "metadata": {},
   "outputs": [],
   "source": [
    "df = pd.read_csv(\"compound.csv\")"
   ]
  },
  {
   "cell_type": "code",
   "execution_count": 3,
   "id": "acb30795-1d56-4f90-a067-e0ab4e488804",
   "metadata": {},
   "outputs": [
    {
     "name": "stdout",
     "output_type": "stream",
     "text": [
      "              Names                                             Smiles\n",
      "0         Quercetin   C1=CC(=C(C=C1C2=C(C(=O)C3=C(C=C(C=C3O2)O)O)O)O)O\n",
      "1         Hypericin  CC1=CC(=O)C2=C(C3=C(C=C(C4=C3C5=C2C1=C6C(=CC(=...\n",
      "2  Chlorogenic acid  C1[C@H]([C@H]([C@@H](C[C@@]1(C(=O)O)O)OC(=O)/C...\n",
      "3        Kaempferol      C1=CC(=CC=C1C2=C(C(=O)C3=C(C=C(C=C3O2)O)O)O)O\n",
      "4       Epicatechin  C1[C@H]([C@H](OC2=CC(=CC(=C21)O)O)C3=CC(=C(C=C...\n"
     ]
    }
   ],
   "source": [
    "print(df)"
   ]
  },
  {
   "cell_type": "code",
   "execution_count": 4,
   "id": "4ef89918-6aee-43f7-a9c4-cbcb694852f6",
   "metadata": {},
   "outputs": [
    {
     "name": "stdout",
     "output_type": "stream",
     "text": [
      "Index(['Names', 'Smiles'], dtype='object')\n"
     ]
    }
   ],
   "source": [
    "print(df.columns)"
   ]
  },
  {
   "cell_type": "code",
   "execution_count": 6,
   "id": "855f2b91-efc1-469a-b259-142b578a9b56",
   "metadata": {},
   "outputs": [
    {
     "name": "stdout",
     "output_type": "stream",
     "text": [
      "Saved: Quercetin.pdb\n",
      "Saved: Hypericin.pdb\n",
      "Saved: Chlorogenic acid.pdb\n",
      "Saved: Kaempferol.pdb\n",
      "Saved: Epicatechin.pdb\n"
     ]
    }
   ],
   "source": [
    "for i, row in df.iterrows():\n",
    "    mol = Chem.MolFromSmiles(row[\"Smiles\"])\n",
    "    mol = Chem.AddHs(mol)  # Add hydrogen atoms\n",
    "    AllChem.EmbedMolecule(mol, AllChem.ETKDG())  # Generate 3D conformation\n",
    "    Chem.MolToPDBFile(mol, f\"{row['Names']}.pdb\")\n",
    "    print(f\"Saved: {row['Names']}.pdb\")"
   ]
  },
  {
   "cell_type": "markdown",
   "id": "fcf2835e-f7e0-4fe3-aca7-332279fc6eb9",
   "metadata": {},
   "source": [
    "## Convert to PDBQT"
   ]
  },
  {
   "cell_type": "code",
   "execution_count": 7,
   "id": "265e08e2-4b20-45b6-a798-e38070b16847",
   "metadata": {},
   "outputs": [],
   "source": [
    "import os\n",
    "import glob"
   ]
  },
  {
   "cell_type": "code",
   "execution_count": 8,
   "id": "7d8d8aa1-8775-458f-94c4-38e820a4fecc",
   "metadata": {},
   "outputs": [],
   "source": [
    "# Create \"ligands\" folder if it doesn't exist\n",
    "output_folder = \"ligands\"\n",
    "os.makedirs(output_folder, exist_ok=True)"
   ]
  },
  {
   "cell_type": "code",
   "execution_count": 11,
   "id": "9ed985fc-25cc-475b-bc0a-cbe8ad85c162",
   "metadata": {},
   "outputs": [
    {
     "name": "stdout",
     "output_type": "stream",
     "text": [
      "Converted 3poz.pdb to ligands\\3poz.pdbqt\n",
      "Converted Chlorogenic_acid.pdb to ligands\\Chlorogenic_acid.pdbqt\n",
      "Converted Epicatechin.pdb to ligands\\Epicatechin.pdbqt\n",
      "Converted Hypericin.pdb to ligands\\Hypericin.pdbqt\n",
      "Converted Kaempferol.pdb to ligands\\Kaempferol.pdbqt\n",
      "Converted Quercetin.pdb to ligands\\Quercetin.pdbqt\n",
      "Converted temp_3d.pdb to ligands\\temp_3d.pdbqt\n"
     ]
    }
   ],
   "source": [
    "pdb_files = glob.glob(\"*.pdb\")\n",
    "\n",
    "for pdb_file in pdb_files:\n",
    "    pdbqt_file = os.path.join(output_folder, pdb_file.replace(\".pdb\", \".pdbqt\"))\n",
    "    \n",
    "    # Open Babel command to convert PDB to PDBQT\n",
    "    command1 = f\"obabel {pdb_file} -O temp_3d.pdb --gen3d\"\n",
    "    os.system(command1)\n",
    "\n",
    "    command2 = f\"obabel temp_3d.pdb -O {pdbqt_file} --partialcharge gasteiger\"\n",
    "    os.system(command2)\n",
    "    \n",
    "    print(f\"Converted {pdb_file} to {pdbqt_file}\")"
   ]
  },
  {
   "cell_type": "markdown",
   "id": "1be30052-3dcc-4433-8bc8-324c7f55706d",
   "metadata": {},
   "source": [
    "# Convert and Cleaning Receptor EPQR"
   ]
  },
  {
   "cell_type": "code",
   "execution_count": 38,
   "id": "e603d010-d610-4fda-8929-7567a04beeb0",
   "metadata": {},
   "outputs": [],
   "source": [
    "import os\n",
    "from Bio import PDB\n",
    "import subprocess"
   ]
  },
  {
   "cell_type": "code",
   "execution_count": 41,
   "id": "7554da9a-7c27-4551-9638-0a9b7641ed8d",
   "metadata": {},
   "outputs": [],
   "source": [
    "output_folder = \"receptor\"\n",
    "os.makedirs(output_folder, exist_ok=True)\n",
    "\n",
    "cleaned_pdb = os.path.join(output_folder, \"3POZ_cleaned.pdb\")\n",
    "pdbqt_file = os.path.join(output_folder, \"3POZ_cleaned.pdbqt\")\n",
    "\n",
    "parser = PDB.PDBParser(QUIET=True)\n",
    "structure = parser.get_structure(\"Receptor\", input_pdb)"
   ]
  },
  {
   "cell_type": "markdown",
   "id": "96bf4b04-2b67-4dc1-893e-a4655a0b2be6",
   "metadata": {},
   "source": [
    "## Remove Ligands (03P1023), SO4, and Water"
   ]
  },
  {
   "cell_type": "code",
   "execution_count": 43,
   "id": "7a89396b-92e6-4e53-aab8-03b5612a8a0a",
   "metadata": {},
   "outputs": [],
   "source": [
    "for model in structure:\n",
    "    for chain in model:\n",
    "        residues_to_keep = []\n",
    "        for residue in chain:\n",
    "            hetflag = residue.id[0]  # Check if it's a heteroatom\n",
    "            resname = residue.resname\n",
    "\n",
    "           # Remove ligands, SO4, and water)\n",
    "            if hetflag == \" \" and \"CA\" in residue:  \n",
    "                residues_to_keep.append(residue)\n",
    "        \n",
    "        chain.child_list = residues_to_keep"
   ]
  },
  {
   "cell_type": "markdown",
   "id": "05ffe4a8-1d0e-48a7-a5c6-c1cd13fcf1e3",
   "metadata": {},
   "source": [
    "### To save the Cleaned file"
   ]
  },
  {
   "cell_type": "code",
   "execution_count": 44,
   "id": "148dfca9-0600-44f9-a72a-f86633fed323",
   "metadata": {},
   "outputs": [
    {
     "name": "stdout",
     "output_type": "stream",
     "text": [
      "Cleaned receptor saved as: receptor\\3POZ_cleaned.pdb\n"
     ]
    }
   ],
   "source": [
    "io = PDB.PDBIO()\n",
    "io.set_structure(structure)\n",
    "io.save(cleaned_pdb)\n",
    "print(f\"Cleaned receptor saved as: {cleaned_pdb}\")"
   ]
  },
  {
   "cell_type": "markdown",
   "id": "40753bbe-df53-4f09-849b-cfcae3f69169",
   "metadata": {},
   "source": [
    "### Add Polar hydrogen and Gasteiger charges"
   ]
  },
  {
   "cell_type": "code",
   "execution_count": 45,
   "id": "1a10ebc4-4566-4de3-85d4-f69826b9a85f",
   "metadata": {},
   "outputs": [
    {
     "data": {
      "text/plain": [
       "CompletedProcess(args='obabel receptor\\\\3POZ_cleaned.pdb -O receptor\\\\3POZ_cleaned.pdb --partialcharge gasteiger', returncode=0)"
      ]
     },
     "execution_count": 45,
     "metadata": {},
     "output_type": "execute_result"
    }
   ],
   "source": [
    "command_h = f\"obabel {cleaned_pdb} -O {cleaned_pdb} --addpolarh\"\n",
    "subprocess.run(command_h, shell=True)\n",
    "\n",
    "# To Assign Gasteiger Charges\n",
    "command_charge = f\"obabel {cleaned_pdb} -O {cleaned_pdb} --partialcharge gasteiger\"\n",
    "subprocess.run(command_charge, shell=True)\n"
   ]
  },
  {
   "cell_type": "markdown",
   "id": "2457f27f-a76e-4941-96a3-cd4f713697eb",
   "metadata": {},
   "source": [
    "### Convert to PDBQT"
   ]
  },
  {
   "cell_type": "code",
   "execution_count": 50,
   "id": "7cdca700-c476-400f-9367-f0b8b941bde6",
   "metadata": {},
   "outputs": [
    {
     "name": "stdout",
     "output_type": "stream",
     "text": [
      "Receptor converted to PDBQT and saved as: receptor\\3POZ_cleaned.pdbqt\n"
     ]
    }
   ],
   "source": [
    "command = f\"obabel {cleaned_pdb} -O {pdbqt_file}\"\n",
    "subprocess.run(command, shell=True)\n",
    "\n",
    "print(f\"Receptor converted to PDBQT and saved as: {pdbqt_file}\")"
   ]
  },
  {
   "cell_type": "code",
   "execution_count": null,
   "id": "8a04b4c9-eb21-4698-a4ea-fc941233db5a",
   "metadata": {},
   "outputs": [],
   "source": []
  }
 ],
 "metadata": {
  "kernelspec": {
   "display_name": "Python 3 (ipykernel)",
   "language": "python",
   "name": "python3"
  },
  "language_info": {
   "codemirror_mode": {
    "name": "ipython",
    "version": 3
   },
   "file_extension": ".py",
   "mimetype": "text/x-python",
   "name": "python",
   "nbconvert_exporter": "python",
   "pygments_lexer": "ipython3",
   "version": "3.12.3"
  }
 },
 "nbformat": 4,
 "nbformat_minor": 5
}
