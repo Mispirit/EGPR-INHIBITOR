{
 "cells": [
  {
   "cell_type": "markdown",
   "id": "ec68d394-64f9-44a7-8228-7cb3f50ffa67",
   "metadata": {},
   "source": [
    "# FOR DOCKING"
   ]
  },
  {
   "cell_type": "code",
   "execution_count": 1,
   "id": "51893cda-f7d6-4dd8-ac3a-f095ddc0997b",
   "metadata": {},
   "outputs": [
    {
     "name": "stdout",
     "output_type": "stream",
     "text": [
      "AutoDock Vina 1.1.2 (May 11, 2011)\n"
     ]
    }
   ],
   "source": [
    "!vina --version"
   ]
  },
  {
   "cell_type": "markdown",
   "id": "9cf73cdf-ac67-4c70-842e-53255cf231c8",
   "metadata": {},
   "source": [
    "# Run the Python docking script"
   ]
  },
  {
   "cell_type": "code",
   "execution_count": 1,
   "id": "ac4be885-fdbc-4a0d-8759-03e64ba9b8b6",
   "metadata": {},
   "outputs": [],
   "source": [
    "import subprocess"
   ]
  },
  {
   "cell_type": "code",
   "execution_count": 2,
   "id": "0ecffbb3-e35c-4b72-8db4-7fa904d35d68",
   "metadata": {},
   "outputs": [
    {
     "data": {
      "text/plain": [
       "CompletedProcess(args=['python', 'docking_auth.py'], returncode=0)"
      ]
     },
     "execution_count": 2,
     "metadata": {},
     "output_type": "execute_result"
    }
   ],
   "source": [
    "\n",
    "subprocess.run([\"python\", \"docking_auth.py\"])"
   ]
  }
 ],
 "metadata": {
  "kernelspec": {
   "display_name": "Python 3 (ipykernel)",
   "language": "python",
   "name": "python3"
  },
  "language_info": {
   "codemirror_mode": {
    "name": "ipython",
    "version": 3
   },
   "file_extension": ".py",
   "mimetype": "text/x-python",
   "name": "python",
   "nbconvert_exporter": "python",
   "pygments_lexer": "ipython3",
   "version": "3.12.3"
  }
 },
 "nbformat": 4,
 "nbformat_minor": 5
}
