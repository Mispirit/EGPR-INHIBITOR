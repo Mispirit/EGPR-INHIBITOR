{
 "cells": [
  {
   "cell_type": "markdown",
   "id": "7110753f-b662-4436-b44f-a612116b1d79",
   "metadata": {},
   "source": [
    "# FOR DOCKING"
   ]
  },
  {
   "cell_type": "code",
   "execution_count": 1,
   "id": "b18b9bdf-ece2-4a5a-920c-449734fc0684",
   "metadata": {},
   "outputs": [
    {
     "name": "stdout",
     "output_type": "stream",
     "text": [
      "AutoDock Vina 1.1.2 (May 11, 2011)\n"
     ]
    }
   ],
   "source": [
    "!vina --version"
   ]
  },
  {
   "cell_type": "markdown",
   "id": "f7d3f85f-949c-4842-ac7b-7eb756984754",
   "metadata": {},
   "source": [
    "# Run the Python docking script"
   ]
  },
  {
   "cell_type": "code",
   "execution_count": 2,
   "id": "419026d9-1885-4eb2-80ea-d998f40c3d96",
   "metadata": {},
   "outputs": [],
   "source": [
    "import subprocess"
   ]
  },
  {
   "cell_type": "code",
   "execution_count": 3,
   "id": "93f20b12-2da7-4f2c-9a06-b2f38a0c95ed",
   "metadata": {},
   "outputs": [
    {
     "data": {
      "text/plain": [
       "CompletedProcess(args=['python', 'docking_auth.py'], returncode=0)"
      ]
     },
     "execution_count": 3,
     "metadata": {},
     "output_type": "execute_result"
    }
   ],
   "source": [
    "subprocess.run([\"python\", \"docking_auth.py\"])"
   ]
  },
  {
   "cell_type": "code",
   "execution_count": null,
   "id": "f8013857-3149-4298-be49-da65fb37d905",
   "metadata": {},
   "outputs": [],
   "source": []
  }
 ],
 "metadata": {
  "kernelspec": {
   "display_name": "Python 3 (ipykernel)",
   "language": "python",
   "name": "python3"
  },
  "language_info": {
   "codemirror_mode": {
    "name": "ipython",
    "version": 3
   },
   "file_extension": ".py",
   "mimetype": "text/x-python",
   "name": "python",
   "nbconvert_exporter": "python",
   "pygments_lexer": "ipython3",
   "version": "3.12.3"
  }
 },
 "nbformat": 4,
 "nbformat_minor": 5
}
